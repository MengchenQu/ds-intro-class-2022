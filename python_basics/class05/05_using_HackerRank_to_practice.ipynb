{
 "cells": [
  {
   "cell_type": "markdown",
   "metadata": {},
   "source": [
    "# Intro to Python3 - Class05\n",
    "\n",
    "### Class agenda:\n",
    "##### 9. Using HackerRank to practice your programming skill\n",
    "\n",
    "\n",
    "## 9. Using HackerRank to practice your programming skill\n",
    "There are lots of online resources you can use to practice data structure and algo. Two popular options are [Leet Code](https://leetcode.com/problemset/all/?page=1) and Hacker Rank. Many companies use them for interviews too. So if you practice and get familairized with the interface, you might already set yourself up for success.\n",
    "\n",
    "I'll take HackerRank to examples in this class. Let's look at a problem together and learn about the website.\n",
    "\n",
    "- [if-else problem](https://www.hackerrank.com/challenges/py-if-else/problem)"
   ]
  },
  {
   "cell_type": "code",
   "execution_count": 1,
   "metadata": {},
   "outputs": [
    {
     "name": "stdout",
     "output_type": "stream",
     "text": [
      "5 4\n"
     ]
    }
   ],
   "source": [
    "numbers = (1, 2, 3, 4, 5, 6, 7, 8, 9)\n",
    "odd = []\n",
    "even = []\n",
    "for num in numbers:\n",
    "    if num % 2 ==1:\n",
    "        odd.append(num)\n",
    "    if num % 2 ==0:\n",
    "        even.append(num)\n",
    "\n",
    "odd1= len(odd)\n",
    "even1 = len(even)\n",
    "print(odd1, even1)"
   ]
  },
  {
   "cell_type": "code",
   "execution_count": null,
   "metadata": {},
   "outputs": [],
   "source": [
    "#!/bin/python3\n",
    "\n",
    "import math\n",
    "import os\n",
    "import random\n",
    "import re\n",
    "import sys\n",
    "\n",
    "\n",
    "\n",
    "if __name__ == '__main__':\n",
    "    n = int(input().strip())\n",
    "    if n % 2:\n",
    "        print('Weird')\n",
    "    elif n <= 5 or n > 20:\n",
    "        print('Not Weird')\n",
    "    else:\n",
    "        print('Weird')"
   ]
  },
  {
   "cell_type": "markdown",
   "metadata": {},
   "source": [
    "Solving the problem is the first step, then you can challeng yourself to use less and less compexity in your solution. Let's take the following problem as an example\n",
    "\n",
    "- [mini-max-sum](https://www.hackerrank.com/challenges/mini-max-sum/problem)"
   ]
  },
  {
   "cell_type": "code",
   "execution_count": 3,
   "metadata": {},
   "outputs": [
    {
     "data": {
      "text/plain": [
       "True"
      ]
     },
     "execution_count": 3,
     "metadata": {},
     "output_type": "execute_result"
    }
   ],
   "source": [
    "True == 1"
   ]
  },
  {
   "cell_type": "code",
   "execution_count": 6,
   "metadata": {},
   "outputs": [
    {
     "data": {
      "text/plain": [
       "[2, 3, 4, 5]"
      ]
     },
     "execution_count": 6,
     "metadata": {},
     "output_type": "execute_result"
    }
   ],
   "source": [
    "a = [1,2,3,4,5]\n",
    "a[-4:]"
   ]
  },
  {
   "cell_type": "code",
   "execution_count": null,
   "metadata": {},
   "outputs": [],
   "source": [
    "import math\n",
    "import os\n",
    "import random\n",
    "import re\n",
    "import sys\n",
    "\n",
    "# Complete the miniMaxSum function below.\n",
    "def miniMaxSum(arr):\n",
    "    # nlog(n)\n",
    "    s_arr = sorted(arr)\n",
    "    # n\n",
    "    return(sum(s_arr[:4]), sum(s_arr[-4:]))\n",
    "\n",
    "if __name__ == '__main__':\n",
    "    arr = list(map(int, input().rstrip().split()))\n",
    "    \n",
    "    print(miniMaxSum(arr))"
   ]
  },
  {
   "cell_type": "code",
   "execution_count": 14,
   "metadata": {},
   "outputs": [],
   "source": [
    "def miniMaxSum(arr):\n",
    "    # Write your code here\n",
    "    list1 = sorted(arr)\n",
    "    minsum = sum(list1[:4])\n",
    "    maxsum = sum(list1[-4:])\n",
    "    return(minsum,maxsum)"
   ]
  },
  {
   "cell_type": "code",
   "execution_count": 15,
   "metadata": {},
   "outputs": [],
   "source": [
    "arr = [1,2,3,4,5]"
   ]
  },
  {
   "cell_type": "code",
   "execution_count": 26,
   "metadata": {},
   "outputs": [
    {
     "data": {
      "text/plain": [
       "[10, 14]"
      ]
     },
     "execution_count": 26,
     "metadata": {},
     "output_type": "execute_result"
    }
   ],
   "source": [
    "list(miniMaxSum(arr))"
   ]
  },
  {
   "cell_type": "code",
   "execution_count": null,
   "metadata": {},
   "outputs": [],
   "source": [
    "def miniMaxSum_2(arr):\n",
    "    # n\n",
    "    asum = sum(arr)\n",
    "    # 2n\n",
    "    return(asum - max(arr), asum - min(arr))\n",
    "\n",
    "if __name__ == '__main__':\n",
    "    arr = list(map(int, input().rstrip().split()))\n",
    "    \n",
    "    print(miniMaxSum(arr))"
   ]
  },
  {
   "cell_type": "code",
   "execution_count": null,
   "metadata": {},
   "outputs": [],
   "source": [
    "def miniMaxSum_3(arr):\n",
    "    # n\n",
    "    amin = math.inf #无穷大\n",
    "    amax = -math.inf #负无穷大\n",
    "    asum = 0\n",
    "    for a in arr:\n",
    "        if a < amin: amin = a\n",
    "        if a > amax: amax = a\n",
    "        asum += a\n",
    "    return(asum - amax, asum - amin)\n",
    "\n",
    "if __name__ == '__main__':\n",
    "    arr = list(map(int, input().rstrip().split()))\n",
    "    \n",
    "    print(miniMaxSum(arr))"
   ]
  },
  {
   "cell_type": "code",
   "execution_count": null,
   "metadata": {},
   "outputs": [],
   "source": []
  },
  {
   "cell_type": "code",
   "execution_count": null,
   "metadata": {},
   "outputs": [],
   "source": [
    "from numpy import random\n",
    "a1 = random.randint(1, 1000, 200)\n",
    "a1"
   ]
  },
  {
   "cell_type": "code",
   "execution_count": null,
   "metadata": {},
   "outputs": [],
   "source": [
    "%timeit miniMaxSum(a1)"
   ]
  },
  {
   "cell_type": "code",
   "execution_count": null,
   "metadata": {},
   "outputs": [],
   "source": [
    "%timeit miniMaxSum_2(a1)"
   ]
  },
  {
   "cell_type": "code",
   "execution_count": null,
   "metadata": {},
   "outputs": [],
   "source": [
    "%timeit miniMaxSum_3(a1)"
   ]
  },
  {
   "cell_type": "code",
   "execution_count": null,
   "metadata": {},
   "outputs": [],
   "source": [
    "import numpy as np\n",
    "import timeit\n",
    "import pandas as pd\n",
    "%matplotlib inline"
   ]
  },
  {
   "cell_type": "code",
   "execution_count": null,
   "metadata": {},
   "outputs": [],
   "source": [
    "performance = {}\n",
    "\n",
    "for n in np.logspace(1, 6, num=20):\n",
    "    sample_size = int(np.ceil(n))\n",
    "    a = np.random.randint(1, 1000, sample_size)\n",
    "    t1 = timeit.timeit('miniMaxSum(a)','from __main__ import miniMaxSum, a', number=100)\n",
    "    t2 = timeit.timeit('miniMaxSum_2(a)','from __main__ import miniMaxSum_2, a', number=100)\n",
    "    t3 = timeit.timeit('miniMaxSum_3(a)','from __main__ import miniMaxSum_3, a', number=100)\n",
    "    performance[sample_size] = (t1, t2, t3)\n",
    "    \n",
    "perf_df = pd.DataFrame.from_dict(performance, orient='index')\n",
    "perf_df.plot(kind='line')"
   ]
  },
  {
   "cell_type": "code",
   "execution_count": null,
   "metadata": {},
   "outputs": [],
   "source": [
    "perf_df"
   ]
  },
  {
   "cell_type": "code",
   "execution_count": 29,
   "metadata": {},
   "outputs": [
    {
     "data": {
      "text/plain": [
       "array([1.00000000e+01, 1.83298071e+01, 3.35981829e+01, 6.15848211e+01,\n",
       "       1.12883789e+02, 2.06913808e+02, 3.79269019e+02, 6.95192796e+02,\n",
       "       1.27427499e+03, 2.33572147e+03, 4.28133240e+03, 7.84759970e+03,\n",
       "       1.43844989e+04, 2.63665090e+04, 4.83293024e+04, 8.85866790e+04,\n",
       "       1.62377674e+05, 2.97635144e+05, 5.45559478e+05, 1.00000000e+06])"
      ]
     },
     "execution_count": 29,
     "metadata": {},
     "output_type": "execute_result"
    }
   ],
   "source": [
    "np.logspace(1, 6, num=20)"
   ]
  },
  {
   "cell_type": "markdown",
   "metadata": {},
   "source": [
    " ### Other good practice resources\n",
    " \n",
    " \n",
    "Object-oriented programming (OOP):\n",
    " - Tutorial: https://realpython.com/courses/intro-object-oriented-programming-oop-python/\n",
    " - Youtube tutorial: https://youtu.be/JeznW_7DlB0\n",
    " \n",
    "Usually DA/Analytics DS interview requires good SQL/python data manipulation skills, experimentation skills, and/or data visualization using python. We will cover python for data analysis in the next module.\n",
    " \n",
    "Some DS/DE positions will required understanding of data structure and algorithm, best way to prepare is to practice with actual coding problems.\n",
    " \n",
    " - [LeetCode](https://leetcode.com/problemset/all/?page=1)\n",
    " - [CodeSignal](https://codesignal.com/)"
   ]
  },
  {
   "cell_type": "markdown",
   "metadata": {},
   "source": [
    "## 10. SQL crash course\n",
    "\n",
    "SQL crash course: https://sqlcrashcourse.com/lessons/ \n",
    "- basic statements\n",
    "- joins\n",
    "- aggregation with `group by`\n",
    "- window function (advanced)\n",
    "- table alternation\n",
    "\n",
    "Order of execution matters!\n",
    "\n",
    "Other resources:\n",
    "- SQLbolt: https://sqlbolt.com/lesson/select_queries_order_of_execution\n",
    "- Mode Analytics: https://mode.com/sql-tutorial/intro-to-advanced-sql/"
   ]
  },
  {
   "cell_type": "markdown",
   "metadata": {},
   "source": [
    "![execution_order](IMG_7760.JPG)"
   ]
  },
  {
   "cell_type": "markdown",
   "metadata": {},
   "source": [
    "## 11. Intro to A/B testing\n",
    "\n",
    " - [A/B testing intro (reading assignment, not covered)](https://cxl.com/blog/ab-testing-guide/)\n",
    " - [A/B testing application tips](https://ils.unc.edu/courses/2018_spring/inls509_001/lectures/14-AB-Testing.pdf)\n",
    " - [A/B testing tool](https://www.evanmiller.org/ab-testing/)\n",
    " - [Trustworthy online experiemtns](https://experimentguide.com/wp-content/uploads/TrustworthyOnlineControlledExperiments_PracticalGuideToABTesting_Chapter1.pdf)\n",
    " - [A/B testing design](https://olgabelitskaya.github.io/P7_Design_an_A_B_Test_Overview.html)"
   ]
  },
  {
   "cell_type": "code",
   "execution_count": null,
   "metadata": {},
   "outputs": [],
   "source": []
  }
 ],
 "metadata": {
  "kernelspec": {
   "display_name": "Python 3",
   "language": "python",
   "name": "python3"
  },
  "language_info": {
   "codemirror_mode": {
    "name": "ipython",
    "version": 3
   },
   "file_extension": ".py",
   "mimetype": "text/x-python",
   "name": "python",
   "nbconvert_exporter": "python",
   "pygments_lexer": "ipython3",
   "version": "3.8.5"
  }
 },
 "nbformat": 4,
 "nbformat_minor": 4
}
